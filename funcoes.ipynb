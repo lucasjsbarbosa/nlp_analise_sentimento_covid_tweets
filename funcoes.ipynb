{
 "cells": [
  {
   "cell_type": "code",
   "execution_count": null,
   "id": "7926a932-935d-4ba7-92d2-50a8f996fa24",
   "metadata": {},
   "outputs": [],
   "source": [
    "# !pip install spacy\n",
    "# !pip install transformers\n",
    "# !pip install torch"
   ]
  },
  {
   "cell_type": "code",
   "execution_count": 9,
   "id": "55767ae8-eff7-42f7-bbfa-c2ead3d3e769",
   "metadata": {},
   "outputs": [],
   "source": [
    "import re\n",
    "import spacy\n",
    "from transformers import AutoTokenizer, AutoModel\n",
    "import torch"
   ]
  },
  {
   "cell_type": "code",
   "execution_count": 3,
   "id": "f4a7da48-d21a-4996-8261-ad98c290509e",
   "metadata": {},
   "outputs": [],
   "source": [
    "def limpa_texto(texto):\n",
    "    texto_limpo = re.sub(r\"http\\S+\", \"\", texto)  # Remove URLs\n",
    "    texto_limpo = re.sub(r\"[^\\w\\s]\", \"\", texto_limpo)  # Remove pontuação\n",
    "    texto_limpo = texto_limpo.lower()  # Coloca em minúsculo\n",
    "    return texto_limpo.strip()"
   ]
  },
  {
   "cell_type": "code",
   "execution_count": null,
   "id": "c23e17c9-719f-40f1-bb30-92579757b7c8",
   "metadata": {},
   "outputs": [],
   "source": [
    "def lemmatization(texto):\n",
    "    doc = nlp(texto)  # Processa o texto\n",
    "    lemmas = [token.lemma_ for token in doc]  # Extrai os lemas\n",
    "    return \" \".join(lemmas)  # Retorna os lemas como uma string única"
   ]
  },
  {
   "cell_type": "code",
   "execution_count": null,
   "id": "8bcc3ebd-a326-4546-976b-57e34af6a16e",
   "metadata": {},
   "outputs": [],
   "source": [
    "def embedding(texto):\n",
    "    tokens = tokenizer(texto, return_tensors='pt')\n",
    "    outputs = model(**tokens)\n",
    "    return outputs.last_hidden_state"
   ]
  }
 ],
 "metadata": {
  "kernelspec": {
   "display_name": "Python 3 (ipykernel)",
   "language": "python",
   "name": "python3"
  },
  "language_info": {
   "codemirror_mode": {
    "name": "ipython",
    "version": 3
   },
   "file_extension": ".py",
   "mimetype": "text/x-python",
   "name": "python",
   "nbconvert_exporter": "python",
   "pygments_lexer": "ipython3",
   "version": "3.12.7"
  }
 },
 "nbformat": 4,
 "nbformat_minor": 5
}
